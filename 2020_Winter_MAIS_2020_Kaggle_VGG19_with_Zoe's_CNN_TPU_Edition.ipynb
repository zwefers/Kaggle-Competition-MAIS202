{
  "nbformat": 4,
  "nbformat_minor": 0,
  "metadata": {
    "colab": {
      "name": "2020 Winter MAIS 2020 Kaggle VGG19 with Zoe's CNN- TPU Edition.ipynb",
      "provenance": [],
      "collapsed_sections": [],
      "toc_visible": true,
      "machine_shape": "hm"
    },
    "kernelspec": {
      "name": "python3",
      "display_name": "Python 3"
    },
    "language_info": {
      "codemirror_mode": {
        "name": "ipython",
        "version": 3
      },
      "file_extension": ".py",
      "mimetype": "text/x-python",
      "name": "python",
      "nbconvert_exporter": "python",
      "pygments_lexer": "ipython3",
      "version": "3.6.7"
    },
    "accelerator": "TPU"
  },
  "cells": [
    {
      "cell_type": "markdown",
      "metadata": {
        "id": "YOykQi5n4e5u",
        "colab_type": "text"
      },
      "source": [
        "~~~Training on GPU will be fine for transfer learning as it is not a very demanding process.~~~\n",
        "\n",
        "We are going to train this model with TPU.\n",
        "\n",
        "Adapted from [Keras and modern convnets, on TPUs\n",
        "](https://codelabs.developers.google.com/codelabs/keras-flowers-tpu/index.html) from Martin Görner."
      ]
    },
    {
      "cell_type": "markdown",
      "metadata": {
        "colab_type": "text",
        "id": "89B27-TGiDNB"
      },
      "source": [
        "## Imports"
      ]
    },
    {
      "cell_type": "code",
      "metadata": {
        "colab_type": "code",
        "id": "9u3d4Z7uQsmp",
        "outputId": "d136bb67-575e-434f-f413-0a4676acc020",
        "colab": {
          "base_uri": "https://localhost:8080/",
          "height": 51
        }
      },
      "source": [
        "import os, sys, math\n",
        "import numpy as np\n",
        "from matplotlib import pyplot as plt\n",
        "if 'google.colab' in sys.modules: # Colab-only Tensorflow version selector\n",
        "  %tensorflow_version 2.x\n",
        "import tensorflow as tf\n",
        "print(\"Tensorflow version \" + tf.__version__)\n",
        "AUTO = tf.data.experimental.AUTOTUNE"
      ],
      "execution_count": 0,
      "outputs": [
        {
          "output_type": "stream",
          "text": [
            "TensorFlow 2.x selected.\n",
            "Tensorflow version 2.1.0\n"
          ],
          "name": "stdout"
        }
      ]
    },
    {
      "cell_type": "markdown",
      "metadata": {
        "id": "JcTthTrt-TxG",
        "colab_type": "text"
      },
      "source": [
        "# Hardware Configuration\n",
        "This code snippet works for the following hardware accelerators:\n",
        "- TPU (recommended).\n",
        "- GPU.\n",
        "\n",
        "Adapted from [Keras and modern convnets, on TPUs\n",
        "](https://codelabs.developers.google.com/codelabs/keras-flowers-tpu/index.html) and [Keras Flowers on TPU (playground)](https://colab.research.google.com/github/GoogleCloudPlatform/training-data-analyst/blob/master/courses/fast-and-lean-data-science/07_Keras_Flowers_TPU_playground.ipynb) from Martin Görner.\n",
        "\n",
        "**Important:** For the TPU to work, you need to declare your models `with strategy.scope()`.\n"
      ]
    },
    {
      "cell_type": "code",
      "metadata": {
        "id": "NHkN6ypG-10-",
        "colab_type": "code",
        "outputId": "288a8c68-9f89-476b-e569-6a5418ff3db4",
        "colab": {
          "base_uri": "https://localhost:8080/",
          "height": 731
        }
      },
      "source": [
        "# Detect hardware\n",
        "try:\n",
        "  tpu = tf.distribute.cluster_resolver.TPUClusterResolver() # TPU detection\n",
        "except ValueError:\n",
        "  tpu = None\n",
        "  gpus = tf.config.experimental.list_logical_devices(\"GPU\")\n",
        "    \n",
        "# Select appropriate distribution strategy for hardware\n",
        "if tpu:\n",
        "  tf.config.experimental_connect_to_cluster(tpu)\n",
        "  tf.tpu.experimental.initialize_tpu_system(tpu)\n",
        "  strategy = tf.distribute.experimental.TPUStrategy(tpu)\n",
        "  print('Running on TPU ', tpu.master())  \n",
        "elif len(gpus) > 0:\n",
        "  strategy = tf.distribute.MirroredStrategy(gpus) # this works for 1 to multiple GPUs\n",
        "  print('Running on ', len(gpus), ' GPU(s) ')\n",
        "else:\n",
        "  strategy = tf.distribute.get_strategy() # default strategy that works on CPU and single GPU\n",
        "  print('Running on CPU')\n",
        "\n",
        "# How many accelerators do we have ?\n",
        "print(\"Number of accelerators: \", strategy.num_replicas_in_sync)"
      ],
      "execution_count": 0,
      "outputs": [
        {
          "output_type": "stream",
          "text": [
            "INFO:tensorflow:Initializing the TPU system: 10.116.2.26:8470\n"
          ],
          "name": "stdout"
        },
        {
          "output_type": "stream",
          "text": [
            "INFO:tensorflow:Initializing the TPU system: 10.116.2.26:8470\n"
          ],
          "name": "stderr"
        },
        {
          "output_type": "stream",
          "text": [
            "INFO:tensorflow:Clearing out eager caches\n"
          ],
          "name": "stdout"
        },
        {
          "output_type": "stream",
          "text": [
            "INFO:tensorflow:Clearing out eager caches\n"
          ],
          "name": "stderr"
        },
        {
          "output_type": "stream",
          "text": [
            "INFO:tensorflow:Finished initializing TPU system.\n"
          ],
          "name": "stdout"
        },
        {
          "output_type": "stream",
          "text": [
            "INFO:tensorflow:Finished initializing TPU system.\n"
          ],
          "name": "stderr"
        },
        {
          "output_type": "stream",
          "text": [
            "INFO:tensorflow:Found TPU system:\n"
          ],
          "name": "stdout"
        },
        {
          "output_type": "stream",
          "text": [
            "INFO:tensorflow:Found TPU system:\n"
          ],
          "name": "stderr"
        },
        {
          "output_type": "stream",
          "text": [
            "INFO:tensorflow:*** Num TPU Cores: 8\n"
          ],
          "name": "stdout"
        },
        {
          "output_type": "stream",
          "text": [
            "INFO:tensorflow:*** Num TPU Cores: 8\n"
          ],
          "name": "stderr"
        },
        {
          "output_type": "stream",
          "text": [
            "INFO:tensorflow:*** Num TPU Workers: 1\n"
          ],
          "name": "stdout"
        },
        {
          "output_type": "stream",
          "text": [
            "INFO:tensorflow:*** Num TPU Workers: 1\n"
          ],
          "name": "stderr"
        },
        {
          "output_type": "stream",
          "text": [
            "INFO:tensorflow:*** Num TPU Cores Per Worker: 8\n"
          ],
          "name": "stdout"
        },
        {
          "output_type": "stream",
          "text": [
            "INFO:tensorflow:*** Num TPU Cores Per Worker: 8\n"
          ],
          "name": "stderr"
        },
        {
          "output_type": "stream",
          "text": [
            "INFO:tensorflow:*** Available Device: _DeviceAttributes(/job:localhost/replica:0/task:0/device:CPU:0, CPU, 0, 0)\n"
          ],
          "name": "stdout"
        },
        {
          "output_type": "stream",
          "text": [
            "INFO:tensorflow:*** Available Device: _DeviceAttributes(/job:localhost/replica:0/task:0/device:CPU:0, CPU, 0, 0)\n"
          ],
          "name": "stderr"
        },
        {
          "output_type": "stream",
          "text": [
            "INFO:tensorflow:*** Available Device: _DeviceAttributes(/job:localhost/replica:0/task:0/device:XLA_CPU:0, XLA_CPU, 0, 0)\n"
          ],
          "name": "stdout"
        },
        {
          "output_type": "stream",
          "text": [
            "INFO:tensorflow:*** Available Device: _DeviceAttributes(/job:localhost/replica:0/task:0/device:XLA_CPU:0, XLA_CPU, 0, 0)\n"
          ],
          "name": "stderr"
        },
        {
          "output_type": "stream",
          "text": [
            "INFO:tensorflow:*** Available Device: _DeviceAttributes(/job:worker/replica:0/task:0/device:CPU:0, CPU, 0, 0)\n"
          ],
          "name": "stdout"
        },
        {
          "output_type": "stream",
          "text": [
            "INFO:tensorflow:*** Available Device: _DeviceAttributes(/job:worker/replica:0/task:0/device:CPU:0, CPU, 0, 0)\n"
          ],
          "name": "stderr"
        },
        {
          "output_type": "stream",
          "text": [
            "INFO:tensorflow:*** Available Device: _DeviceAttributes(/job:worker/replica:0/task:0/device:TPU:0, TPU, 0, 0)\n"
          ],
          "name": "stdout"
        },
        {
          "output_type": "stream",
          "text": [
            "INFO:tensorflow:*** Available Device: _DeviceAttributes(/job:worker/replica:0/task:0/device:TPU:0, TPU, 0, 0)\n"
          ],
          "name": "stderr"
        },
        {
          "output_type": "stream",
          "text": [
            "INFO:tensorflow:*** Available Device: _DeviceAttributes(/job:worker/replica:0/task:0/device:TPU:1, TPU, 0, 0)\n"
          ],
          "name": "stdout"
        },
        {
          "output_type": "stream",
          "text": [
            "INFO:tensorflow:*** Available Device: _DeviceAttributes(/job:worker/replica:0/task:0/device:TPU:1, TPU, 0, 0)\n"
          ],
          "name": "stderr"
        },
        {
          "output_type": "stream",
          "text": [
            "INFO:tensorflow:*** Available Device: _DeviceAttributes(/job:worker/replica:0/task:0/device:TPU:2, TPU, 0, 0)\n"
          ],
          "name": "stdout"
        },
        {
          "output_type": "stream",
          "text": [
            "INFO:tensorflow:*** Available Device: _DeviceAttributes(/job:worker/replica:0/task:0/device:TPU:2, TPU, 0, 0)\n"
          ],
          "name": "stderr"
        },
        {
          "output_type": "stream",
          "text": [
            "INFO:tensorflow:*** Available Device: _DeviceAttributes(/job:worker/replica:0/task:0/device:TPU:3, TPU, 0, 0)\n"
          ],
          "name": "stdout"
        },
        {
          "output_type": "stream",
          "text": [
            "INFO:tensorflow:*** Available Device: _DeviceAttributes(/job:worker/replica:0/task:0/device:TPU:3, TPU, 0, 0)\n"
          ],
          "name": "stderr"
        },
        {
          "output_type": "stream",
          "text": [
            "INFO:tensorflow:*** Available Device: _DeviceAttributes(/job:worker/replica:0/task:0/device:TPU:4, TPU, 0, 0)\n"
          ],
          "name": "stdout"
        },
        {
          "output_type": "stream",
          "text": [
            "INFO:tensorflow:*** Available Device: _DeviceAttributes(/job:worker/replica:0/task:0/device:TPU:4, TPU, 0, 0)\n"
          ],
          "name": "stderr"
        },
        {
          "output_type": "stream",
          "text": [
            "INFO:tensorflow:*** Available Device: _DeviceAttributes(/job:worker/replica:0/task:0/device:TPU:5, TPU, 0, 0)\n"
          ],
          "name": "stdout"
        },
        {
          "output_type": "stream",
          "text": [
            "INFO:tensorflow:*** Available Device: _DeviceAttributes(/job:worker/replica:0/task:0/device:TPU:5, TPU, 0, 0)\n"
          ],
          "name": "stderr"
        },
        {
          "output_type": "stream",
          "text": [
            "INFO:tensorflow:*** Available Device: _DeviceAttributes(/job:worker/replica:0/task:0/device:TPU:6, TPU, 0, 0)\n"
          ],
          "name": "stdout"
        },
        {
          "output_type": "stream",
          "text": [
            "INFO:tensorflow:*** Available Device: _DeviceAttributes(/job:worker/replica:0/task:0/device:TPU:6, TPU, 0, 0)\n"
          ],
          "name": "stderr"
        },
        {
          "output_type": "stream",
          "text": [
            "INFO:tensorflow:*** Available Device: _DeviceAttributes(/job:worker/replica:0/task:0/device:TPU:7, TPU, 0, 0)\n"
          ],
          "name": "stdout"
        },
        {
          "output_type": "stream",
          "text": [
            "INFO:tensorflow:*** Available Device: _DeviceAttributes(/job:worker/replica:0/task:0/device:TPU:7, TPU, 0, 0)\n"
          ],
          "name": "stderr"
        },
        {
          "output_type": "stream",
          "text": [
            "INFO:tensorflow:*** Available Device: _DeviceAttributes(/job:worker/replica:0/task:0/device:TPU_SYSTEM:0, TPU_SYSTEM, 0, 0)\n"
          ],
          "name": "stdout"
        },
        {
          "output_type": "stream",
          "text": [
            "INFO:tensorflow:*** Available Device: _DeviceAttributes(/job:worker/replica:0/task:0/device:TPU_SYSTEM:0, TPU_SYSTEM, 0, 0)\n"
          ],
          "name": "stderr"
        },
        {
          "output_type": "stream",
          "text": [
            "INFO:tensorflow:*** Available Device: _DeviceAttributes(/job:worker/replica:0/task:0/device:XLA_CPU:0, XLA_CPU, 0, 0)\n"
          ],
          "name": "stdout"
        },
        {
          "output_type": "stream",
          "text": [
            "INFO:tensorflow:*** Available Device: _DeviceAttributes(/job:worker/replica:0/task:0/device:XLA_CPU:0, XLA_CPU, 0, 0)\n"
          ],
          "name": "stderr"
        },
        {
          "output_type": "stream",
          "text": [
            "Running on TPU  grpc://10.116.2.26:8470\n",
            "Number of accelerators:  8\n"
          ],
          "name": "stdout"
        }
      ]
    },
    {
      "cell_type": "markdown",
      "metadata": {
        "id": "l-PAaeNKALXD",
        "colab_type": "text"
      },
      "source": [
        "# Fetch and Parse Kaggle Conpetition Datasheets\n",
        "Tensorflow's datasheet format seems to be more intuitive and straight-forward than Numpy Arrays. Most importantly, they work out-of-the-box with TPUs. Since we are using Tensorflow for training, it might be helpful to use the built-in Tensorflow data format."
      ]
    },
    {
      "cell_type": "code",
      "metadata": {
        "id": "cwaUMkuJvUe5",
        "colab_type": "code",
        "colab": {}
      },
      "source": [
        "SCALE_UP_RATIO = 2\n",
        "IMAGE_SIZE = [SCALE_UP_RATIO * 28, SCALE_UP_RATIO * 28]\n",
        "# IMAGE_SIZE = [71, 71]"
      ],
      "execution_count": 0,
      "outputs": []
    },
    {
      "cell_type": "code",
      "metadata": {
        "id": "jE72Ay2HAOBK",
        "colab_type": "code",
        "outputId": "36987c90-4449-4be2-9fb2-ccc735a5a4a5",
        "colab": {
          "base_uri": "https://localhost:8080/",
          "height": 306
        }
      },
      "source": [
        "# https://stackoverflow.com/questions/46614526/how-to-import-a-csv-file-into-a-data-array\n",
        "# https://stackoverflow.com/questions/48889482/feeding-npy-numpy-files-into-tensorflow-data-pipeline\n",
        "import csv\n",
        "import os\n",
        "\n",
        "import cv2\n",
        "from tqdm import tqdm\n",
        "os.environ['KAGGLE_USERNAME'] = \"jacobthebanana\"\n",
        "os.environ['KAGGLE_KEY'] = \"d5932a01a9227207eca15bfdfd0a503a\"\n",
        " \n",
        "!kaggle competitions download -c winter2020-mais-202\n",
        "\n",
        "# Unzip quietly withou overwriting anything that already exists.\n",
        "!unzip -nq test_images.npy.zip\n",
        "!unzip -nq train_images.npy.zip\n",
        "\n",
        "# Load npy files, and convert to Tensorflow datasets.\n",
        "# Load the training data into a Numpy array and the labels into a list.\n",
        "np_data = np.load(\"train_images.npy\")\n",
        "\n",
        "# Adapted from Zoë's hack for monochromatic images\n",
        "rgb_data = list()\n",
        "\n",
        "for img in tqdm(np_data):\n",
        "  img = img.astype('float32')\n",
        "  img = cv2.resize(img, tuple(IMAGE_SIZE))\n",
        "  rbg_img = np.stack((img, img, img), axis=2)\n",
        "  rgb_data.append(rbg_img)\n",
        "\n",
        "np_data = np.asarray(rgb_data)\n",
        "\n",
        "label_csv = open('train_labels.csv', newline='')    \n",
        "labels = list(csv.reader(label_csv))[1:]\n",
        "labels = [float(label[1]) for label in labels] \n",
        "\n",
        "# Assume that each row of `features` corresponds to the same row as `labels`.\n",
        "assert np_data.shape[0] == len(labels)\n",
        "\n",
        "# Generate one-hot labels.\n",
        "def get_onehot_label(numerical_label): # Gives a 1D-tensor\n",
        "  output = [0 for i in range(10)]\n",
        "  output[int(numerical_label)] = 1\n",
        "  return tf.convert_to_tensor(output)\n",
        "\n",
        "labels = [get_onehot_label(label) for label in labels]\n",
        "\n",
        "# Actually load the dataset into Tensorflow\n",
        "dataset = tf.data.Dataset.from_tensor_slices((np_data, labels))\n",
        "\n",
        "# Load the name for each category.\n",
        "with open('label_int_to_str_mapping.csv', newline='') as csvfile:\n",
        "    label_int_to_str_mapping = list(csv.reader(csvfile))[1:]"
      ],
      "execution_count": 0,
      "outputs": [
        {
          "output_type": "stream",
          "text": [
            "Warning: Looks like you're using an outdated API Version, please consider updating (server 1.5.6 / client 1.5.4)\n",
            "Downloading train_labels.csv to /content\n",
            "  0% 0.00/429k [00:00<?, ?B/s]\n",
            "100% 429k/429k [00:00<00:00, 64.9MB/s]\n",
            "Downloading train_images.npy.zip to /content\n",
            " 97% 50.0M/51.7M [00:01<00:00, 28.3MB/s]\n",
            "100% 51.7M/51.7M [00:01<00:00, 46.5MB/s]\n",
            "Downloading sample_submission.csv to /content\n",
            "  0% 0.00/165k [00:00<?, ?B/s]\n",
            "100% 165k/165k [00:00<00:00, 54.1MB/s]\n",
            "Downloading label_int_to_str_mapping.csv to /content\n",
            "  0% 0.00/127 [00:00<?, ?B/s]\n",
            "100% 127/127 [00:00<00:00, 129kB/s]\n",
            "Downloading test_images.npy.zip to /content\n",
            " 82% 17.0M/20.7M [00:00<00:00, 168MB/s]\n",
            "100% 20.7M/20.7M [00:00<00:00, 132MB/s]\n"
          ],
          "name": "stdout"
        },
        {
          "output_type": "stream",
          "text": [
            "100%|██████████| 50000/50000 [00:02<00:00, 18850.13it/s]\n"
          ],
          "name": "stderr"
        }
      ]
    },
    {
      "cell_type": "markdown",
      "metadata": {
        "colab_type": "text",
        "id": "w9S3uKC_iXY5"
      },
      "source": [
        "## Configuration\n",
        "**Note.** The TPUs ask us to explicitly state the dimensions (shape) of our input. Although we know what's our image size, we have to specify that."
      ]
    },
    {
      "cell_type": "code",
      "metadata": {
        "colab_type": "code",
        "id": "M3G-2aUBQJ-H",
        "outputId": "cf0c87e9-096f-4d19-f925-9c571aab9264",
        "colab": {
          "base_uri": "https://localhost:8080/",
          "height": 51
        }
      },
      "source": [
        "\n",
        "\n",
        "if tpu:\n",
        "  BATCH_SIZE = 16 * strategy.num_replicas_in_sync # We get 8 TPU cores, so BATCH_SIZE would be 128.\n",
        "else:\n",
        "  BATCH_SIZE = 32\n",
        "\n",
        "EPOCHS = 5\n",
        "\n",
        "VALIDATION_SPLIT = 0.19\n",
        "CLASSES = label_int_to_str_mapping\n",
        "\n",
        "# splitting data files between training and validation\n",
        "split = int(len(np_data) * VALIDATION_SPLIT)\n",
        "\n",
        "size = len(np_data)\n",
        "train_size = int(size * (1 - VALIDATION_SPLIT))\n",
        "test_size = int(size * VALIDATION_SPLIT)\n",
        "\n",
        "training_dataset = dataset.take(train_size)\n",
        "validation_dataset = dataset.skip(train_size)\n",
        "\n",
        "print(\"Found {} data files. Splitting dataset into {} training files and {} validation files\".format(size, train_size, test_size))\n",
        "validation_steps = int(size * (1 - VALIDATION_SPLIT)) // BATCH_SIZE\n",
        "steps_per_epoch = int(size * VALIDATION_SPLIT) // BATCH_SIZE\n",
        "print(\"With a batch size of {}, there will be {} batches per training epoch and {} batch(es) per validation run.\".format(BATCH_SIZE, steps_per_epoch, validation_steps))"
      ],
      "execution_count": 0,
      "outputs": [
        {
          "output_type": "stream",
          "text": [
            "Found 50000 data files. Splitting dataset into 40500 training files and 9500 validation files\n",
            "With a batch size of 128, there will be 74 batches per training epoch and 316 batch(es) per validation run.\n"
          ],
          "name": "stdout"
        }
      ]
    },
    {
      "cell_type": "markdown",
      "metadata": {
        "id": "F0lujvESpARF",
        "colab_type": "text"
      },
      "source": [
        "## Preview of dataset\n",
        "Let's see what one entry looks like. We are expecting `int32` for both the image and the one_hot label."
      ]
    },
    {
      "cell_type": "code",
      "metadata": {
        "id": "BiMNLadQo3Wa",
        "colab_type": "code",
        "outputId": "4b2ac1ae-e755-43b7-b19a-3b6b2301dc32",
        "colab": {
          "base_uri": "https://localhost:8080/",
          "height": 34
        }
      },
      "source": [
        "for image, label in training_dataset.take(1):\n",
        "  # print(image)\n",
        "  print(tf.cast(label, tf.float32))"
      ],
      "execution_count": 0,
      "outputs": [
        {
          "output_type": "stream",
          "text": [
            "tf.Tensor([0. 0. 0. 0. 0. 0. 1. 0. 0. 0.], shape=(10,), dtype=float32)\n"
          ],
          "name": "stdout"
        }
      ]
    },
    {
      "cell_type": "code",
      "metadata": {
        "cellView": "both",
        "colab_type": "code",
        "id": "MPkvHdAYNt9J",
        "colab": {}
      },
      "source": [
        "#@title display utilities [RUN ME]\n",
        "\n",
        "def dataset_to_numpy_util(dataset, N):\n",
        "  dataset = dataset.batch(N)\n",
        "  \n",
        "  for images, labels in dataset:\n",
        "    numpy_images = images.numpy()\n",
        "    numpy_labels = labels.numpy()\n",
        "    break;\n",
        "\n",
        "  return numpy_images, numpy_labels\n",
        "\n",
        "def title_from_label_and_target(label, correct_label):\n",
        "  correct = (label == correct_label)\n",
        "  return \"{} [{}{}{}]\".format(CLASSES[label], str(correct), ', shoud be ' if not correct else '',\n",
        "                              CLASSES[correct_label] if not correct else ''), correct\n",
        "\n",
        "def display_one_flower(image, title, subplot, red=False):\n",
        "    plt.subplot(subplot)\n",
        "    plt.axis('off')\n",
        "    plt.imshow(image)\n",
        "    plt.title(title, fontsize=16, color='red' if red else 'black')\n",
        "    return subplot+1\n",
        "  \n",
        "def display_9_images_from_dataset(dataset):\n",
        "  subplot=331\n",
        "  plt.figure(figsize=(13,13))\n",
        "  images, labels = dataset_to_numpy_util(dataset, 9)\n",
        "  for i, image in enumerate(images):\n",
        "    title = CLASSES[labels[i]]\n",
        "    subplot = display_one_flower(image, title, subplot)\n",
        "    if i >= 8:\n",
        "      break;\n",
        "              \n",
        "  plt.tight_layout()\n",
        "  plt.subplots_adjust(wspace=0.1, hspace=0.1)\n",
        "  plt.show()\n",
        "  \n",
        "def display_9_images_with_predictions(images, predictions, labels):\n",
        "  subplot=331\n",
        "  plt.figure(figsize=(13,13))\n",
        "  classes = np.argmax(predictions, axis=-1)\n",
        "  for i, image in enumerate(images):\n",
        "    title, correct = title_from_label_and_target(classes[i], labels[i])\n",
        "    subplot = display_one_flower(image, title, subplot, not correct)\n",
        "    if i >= 8:\n",
        "      break;\n",
        "              \n",
        "  plt.tight_layout()\n",
        "  plt.subplots_adjust(wspace=0.1, hspace=0.1)\n",
        "  plt.show()\n",
        "  \n",
        "def display_training_curves(training, validation, title, subplot):\n",
        "  if subplot%10==1: # set up the subplots on the first call\n",
        "    plt.subplots(figsize=(10,10), facecolor='#F0F0F0')\n",
        "    plt.tight_layout()\n",
        "  ax = plt.subplot(subplot)\n",
        "  ax.set_facecolor('#F8F8F8')\n",
        "  ax.plot(training)\n",
        "  ax.plot(validation)\n",
        "  ax.set_title('model '+ title)\n",
        "  ax.set_ylabel(title)\n",
        "  ax.set_xlabel('epoch')\n",
        "  ax.legend(['train', 'valid.'])"
      ],
      "execution_count": 0,
      "outputs": []
    },
    {
      "cell_type": "markdown",
      "metadata": {
        "colab_type": "text",
        "id": "kvPXiovhi3ZZ"
      },
      "source": [
        "## Pre-process inputs"
      ]
    },
    {
      "cell_type": "code",
      "metadata": {
        "id": "KNHYdafGVkKS",
        "colab_type": "code",
        "outputId": "a6295b21-a579-4cdf-ee53-056674d69ac6",
        "colab": {
          "base_uri": "https://localhost:8080/",
          "height": 34
        }
      },
      "source": [
        "[*IMAGE_SIZE, 1] # The asterisk expands the IMAGE_SIZE tuple"
      ],
      "execution_count": 0,
      "outputs": [
        {
          "output_type": "execute_result",
          "data": {
            "text/plain": [
              "[56, 56, 1]"
            ]
          },
          "metadata": {
            "tags": []
          },
          "execution_count": 9
        }
      ]
    },
    {
      "cell_type": "code",
      "metadata": {
        "colab_type": "code",
        "id": "LtAVr-4CP1rp",
        "colab": {}
      },
      "source": [
        "def normalize(image, class_label):\n",
        "  image = tf.cast(image, tf.float32) / 255.0  # convert image to floats in [0, 1] range\n",
        "  class_label = tf.cast(class_label, tf.float32)\n",
        "  \n",
        "  return image, class_label\n",
        "\n",
        "def data_augment(image, label):\n",
        "  image = tf.image.random_flip_left_right(image)\n",
        "  # image = tf.image.random_saturation(image, lower=0, upper=2)\n",
        "  return image, label"
      ],
      "execution_count": 0,
      "outputs": []
    },
    {
      "cell_type": "markdown",
      "metadata": {
        "colab_type": "text",
        "id": "yCDq52zgRHtH"
      },
      "source": [
        "## training and validation datasets"
      ]
    },
    {
      "cell_type": "code",
      "metadata": {
        "colab_type": "code",
        "id": "N5Y9XywVRHtK",
        "colab": {}
      },
      "source": [
        "def get_batched_dataset(input_dataset, train=False, argument_data=True):\n",
        "  dataset = input_dataset.map(normalize)\n",
        "  dataset = dataset.cache() # Assuming that this dataset fits in RAM\n",
        "  if train:\n",
        "    # Best practices for Keras:\n",
        "    # Training dataset: repeat then batch\n",
        "    # Evaluation dataset: do not repeat\n",
        "    dataset = dataset.repeat()\n",
        "    if argument_data:\n",
        "      dataset = dataset.map(data_augment, num_parallel_calls=AUTO)\n",
        "\n",
        "  dataset = dataset.batch(BATCH_SIZE)\n",
        "  dataset = dataset.prefetch(AUTO) # prefetch next batch while training (autotune prefetch buffer size)\n",
        "  # should shuffle too but this dataset was well shuffled on disk already\n",
        "  return dataset\n",
        "  # source: Dataset performance guide: https://www.tensorflow.org/guide/performance/datasets\n",
        "\n",
        "# instantiate the datasets\n",
        "training_dataset = get_batched_dataset(training_dataset, train=True)\n",
        "validation_dataset = get_batched_dataset(validation_dataset, train=False)"
      ],
      "execution_count": 0,
      "outputs": []
    },
    {
      "cell_type": "markdown",
      "metadata": {
        "id": "2iVECozMpeCB",
        "colab_type": "text"
      },
      "source": [
        ""
      ]
    },
    {
      "cell_type": "markdown",
      "metadata": {
        "colab_type": "text",
        "id": "ALtRUlxhw8Vt"
      },
      "source": [
        "## Model [WORK REQUIRED]\n",
        "1. Start with a dummy single-layer model using one dense layer:\n",
        " * Use  a [`tf.keras.Sequential`](https://www.tensorflow.org/api_docs/python/tf/keras/models/Sequential) model. The constructor takes a list of layers.\n",
        " * First, [`Flatten()`](https://www.tensorflow.org/api_docs/python/tf/keras/layers/Flatten) the pixel values of the the input image to a 1D vector so that a dense layer can consume it:<br/>\n",
        " `tf.keras.layers.Flatten(input_shape=[*IMAGE_SIZE, 3])  # the first layer must also specify input shape`\n",
        " * Add a single [`tf.keras.layers.Dense`](https://www.tensorflow.org/api_docs/python/tf/keras/layers/Dense) layer with softmax activation and the correct number of units (hint: 5 classes of flowers):<br/>\n",
        "  `tf.keras.layers.Dense(5, activation='softmax')`\n",
        " * add the last bits and pieces with [model.compile()](https://www.tensorflow.org/api_docs/python/tf/keras/models/Model#compile). For a classifier, you need `'sparse_categorical_crossentropy'` loss, `'accuracy'` in metrics and you can use the `'adam'` optimizer.\n",
        "\n",
        " **==>Train this model: not very good... but all the plumbing is in place.**\n",
        "\n",
        "1. Instead of trying to figure out a better architecture, we will adapt a pretrained model to our data. Please remove all your layers to restart from scratch.\n",
        " * Instantiate a pre-trained model from `tf.keras.applications.*`\n",
        " You do not need its final softmax layer (`include_top=False`) because you will be adding your own. This code is already written in the cell below.<br/>\n",
        " * Use `pretrained_model` as your first \"layer\" in your Sequential model.\n",
        " * Follow with  [`tf.keras.layers.Flatten()`](https://www.tensorflow.org/api_docs/python/tf/keras/layers/Flatten) or [`tf.keras.layers.GlobalAveragePooling2D()`](https://www.tensorflow.org/api_docs/python/tf/keras/layers/GlobalAveragePooling2D) to turn the data from the pretrained model into a flat 1D vector.\n",
        " * Add your [`tf.keras.layers.Dense`](https://www.tensorflow.org/api_docs/python/tf/keras/layers/Dense) layer with softmax activation and the correct number of units (hint: 5 classes of flowers).\n",
        "\n",
        " **==>Train the model: you should be able to reach above 75% accuracy by training for 10 epochs**\n",
        "\n",
        "1. You can try adding a second dense layer. Use 'relu' activation on all dense layers but the last one which must be 'softmax'. An additional layer ads trainable weights. It is unlikely to do much good here though, because our dataset is too small.\n",
        "\n",
        "This technique is called \"transfer learning\". The pretrained model has been trained on a different dataset but its layers have still learned to recognize bits and pieces of images that can be useful for flowers. You are retraining the last layer only, the pretrained weights are frozen. With far fewer weights to adjust, it works with less data."
      ]
    },
    {
      "cell_type": "code",
      "metadata": {
        "id": "2bEEf_pIUKls",
        "colab_type": "code",
        "outputId": "9f298c6d-9dea-46be-cf9b-29e54f150686",
        "colab": {
          "base_uri": "https://localhost:8080/",
          "height": 187
        }
      },
      "source": [
        "for image, label in training_dataset.take(1):\n",
        "  print(image.shape)\n",
        "  print(label.shape)\n",
        "  # print(image)\n",
        "  print(label)"
      ],
      "execution_count": 0,
      "outputs": [
        {
          "output_type": "stream",
          "text": [
            "(128, 56, 56, 3)\n",
            "(128, 10)\n",
            "tf.Tensor(\n",
            "[[0. 0. 0. ... 0. 0. 0.]\n",
            " [0. 0. 0. ... 0. 0. 0.]\n",
            " [0. 0. 0. ... 0. 0. 0.]\n",
            " ...\n",
            " [0. 0. 0. ... 0. 0. 0.]\n",
            " [0. 0. 0. ... 0. 1. 0.]\n",
            " [0. 0. 0. ... 1. 0. 0.]], shape=(128, 10), dtype=float32)\n"
          ],
          "name": "stdout"
        }
      ]
    },
    {
      "cell_type": "code",
      "metadata": {
        "colab_type": "code",
        "id": "XLJNVGwHUDy1",
        "outputId": "4d2bf71c-d345-4e01-b451-de9e7e5771b2",
        "colab": {
          "base_uri": "https://localhost:8080/",
          "height": 918
        }
      },
      "source": [
        "# pretrained_model = tf.keras.applications.MobileNetV2(input_shape=[*IMAGE_SIZE, 3], include_top=False)\n",
        "#pretrained_model = tf.keras.applications.VGG16(weights='imagenet', include_top=False ,input_shape=[*IMAGE_SIZE, 3])\n",
        "#pretrained_model = tf.keras.applications.ResNet50(weights='imagenet', include_top=False, input_shape=[*IMAGE_SIZE, 3])\n",
        "#pretrained_model = tf.keras.applications.MobileNet(weights='imagenet', include_top=False, input_shape=[*IMAGE_SIZE, 3])\n",
        "\n",
        "\n",
        "\n",
        "with strategy.scope(): # Tensorflow wants us to declare and compile our model within this \"scope\".\n",
        "  # pretrained_model = tf.keras.applications.Xception(input_shape=[*IMAGE_SIZE, 3],  include_top=False)\n",
        "  pretrained_model = tf.keras.applications.VGG19(weights='imagenet', include_top=False ,input_shape=[*IMAGE_SIZE, 3])\n",
        "  pretrained_model.trainable = True\n",
        "  x = pretrained_model.output\n",
        "  x = tf.keras.layers.GlobalAveragePooling2D()(x)\n",
        "  x = tf.keras.layers.Dense(1024, activation='relu')(x)\n",
        "  x = tf.keras.layers.Dropout(0.2)(x)\n",
        "  # We got only 10 categories.\n",
        "  predictions = tf.keras.layers.Dense(10, activation='softmax')(x)\n",
        "  print(x.shape)\n",
        "\n",
        "  model2 = tf.keras.Model(inputs=pretrained_model.input, outputs=predictions) \n",
        "  model2.compile(optimizer=\"sgd\", loss='categorical_crossentropy', metrics=['accuracy'])\n",
        "\n",
        "  def fire(x, squeeze, expand):\n",
        "    y = tf.keras.layers.Conv2D(filters=squeeze, kernel_size=1, padding='same', activation='relu')(x)\n",
        "    y1 = tf.keras.layers.Conv2D(filters=expand//2, kernel_size=2, padding='same', activation='relu')(y)\n",
        "    y2 = tf.keras.layers.Conv2D(filters=expand//2, kernel_size=2, padding='same', activation='relu')(y)\n",
        "    y3 = tf.keras.layers.Conv2D(filters=expand//2, kernel_size=3, padding='same', activation='relu')(y)\n",
        "    y4 = tf.keras.layers.Conv2D(filters=expand//2, kernel_size=4, padding='same', activation='relu')(y)\n",
        "    return tf.keras.layers.concatenate([y1, y2, y3, y4])\n",
        "\n",
        "  # this is to make it behave similarly to other Keras layers\n",
        "  def fire_module(squeeze, expand):\n",
        "    return lambda x: fire(x, squeeze, expand)\n",
        "\n",
        "  # usage:\n",
        "  x = tf.keras.layers.Input(shape=[*IMAGE_SIZE, 3]) # input is 192x192 pixels RGB\n",
        "\n",
        "  y = tf.keras.layers.Conv2D(kernel_size=3, filters=32, padding='same', use_bias=True, activation='relu')(x)\n",
        "  y = tf.keras.layers.BatchNormalization(momentum=0.99)(y) # We've got a huge dataset\n",
        "  y = fire_module(24, 48)(y)\n",
        "  y = tf.keras.layers.MaxPooling2D(pool_size=2)(y)\n",
        "  y = fire_module(48, 96)(y)\n",
        "  y = tf.keras.layers.MaxPooling2D(pool_size=2)(y)\n",
        "  y = fire_module(64, 128)(y)\n",
        "  y = tf.keras.layers.MaxPooling2D(pool_size=2)(y)\n",
        "  y = fire_module(48, 96)(y)\n",
        "  y = tf.keras.layers.MaxPooling2D(pool_size=2)(y)\n",
        "  y = tf.keras.layers.Dropout(0.2)(y)\n",
        "  y = fire_module(24, 48)(y)\n",
        "  y = tf.keras.layers.GlobalAveragePooling2D()(y)\n",
        "  y = tf.keras.layers.Dense(10, activation='softmax')(y)\n",
        "\n",
        "  model = tf.keras.Model(x, y)\n",
        "\n",
        "  model.compile(\n",
        "    #\n",
        "    # YOUR CODE HERE\n",
        "    optimizer=tf.keras.optimizers.SGD(lr=0.001, momentum=0.9), loss='categorical_crossentropy',\n",
        "    # It took me hours to figure out that we don't need \"sparse\" here for our categories are discrete.\n",
        "    # I wish I had a better understanding of loss functions beforehand.\n",
        "    metrics=['accuracy']\n",
        "\n",
        "    # \n",
        "  )\n",
        "\n",
        "# history = model.fit(training_dataset, steps_per_epoch=steps_per_epoch, epochs=EPOCHS)\n",
        "\n",
        "pretrained_model.summary()"
      ],
      "execution_count": 0,
      "outputs": [
        {
          "output_type": "stream",
          "text": [
            "(None, 1024)\n",
            "Model: \"vgg19\"\n",
            "_________________________________________________________________\n",
            "Layer (type)                 Output Shape              Param #   \n",
            "=================================================================\n",
            "input_3 (InputLayer)         [(None, 56, 56, 3)]       0         \n",
            "_________________________________________________________________\n",
            "block1_conv1 (Conv2D)        (None, 56, 56, 64)        1792      \n",
            "_________________________________________________________________\n",
            "block1_conv2 (Conv2D)        (None, 56, 56, 64)        36928     \n",
            "_________________________________________________________________\n",
            "block1_pool (MaxPooling2D)   (None, 28, 28, 64)        0         \n",
            "_________________________________________________________________\n",
            "block2_conv1 (Conv2D)        (None, 28, 28, 128)       73856     \n",
            "_________________________________________________________________\n",
            "block2_conv2 (Conv2D)        (None, 28, 28, 128)       147584    \n",
            "_________________________________________________________________\n",
            "block2_pool (MaxPooling2D)   (None, 14, 14, 128)       0         \n",
            "_________________________________________________________________\n",
            "block3_conv1 (Conv2D)        (None, 14, 14, 256)       295168    \n",
            "_________________________________________________________________\n",
            "block3_conv2 (Conv2D)        (None, 14, 14, 256)       590080    \n",
            "_________________________________________________________________\n",
            "block3_conv3 (Conv2D)        (None, 14, 14, 256)       590080    \n",
            "_________________________________________________________________\n",
            "block3_conv4 (Conv2D)        (None, 14, 14, 256)       590080    \n",
            "_________________________________________________________________\n",
            "block3_pool (MaxPooling2D)   (None, 7, 7, 256)         0         \n",
            "_________________________________________________________________\n",
            "block4_conv1 (Conv2D)        (None, 7, 7, 512)         1180160   \n",
            "_________________________________________________________________\n",
            "block4_conv2 (Conv2D)        (None, 7, 7, 512)         2359808   \n",
            "_________________________________________________________________\n",
            "block4_conv3 (Conv2D)        (None, 7, 7, 512)         2359808   \n",
            "_________________________________________________________________\n",
            "block4_conv4 (Conv2D)        (None, 7, 7, 512)         2359808   \n",
            "_________________________________________________________________\n",
            "block4_pool (MaxPooling2D)   (None, 3, 3, 512)         0         \n",
            "_________________________________________________________________\n",
            "block5_conv1 (Conv2D)        (None, 3, 3, 512)         2359808   \n",
            "_________________________________________________________________\n",
            "block5_conv2 (Conv2D)        (None, 3, 3, 512)         2359808   \n",
            "_________________________________________________________________\n",
            "block5_conv3 (Conv2D)        (None, 3, 3, 512)         2359808   \n",
            "_________________________________________________________________\n",
            "block5_conv4 (Conv2D)        (None, 3, 3, 512)         2359808   \n",
            "_________________________________________________________________\n",
            "block5_pool (MaxPooling2D)   (None, 1, 1, 512)         0         \n",
            "=================================================================\n",
            "Total params: 20,024,384\n",
            "Trainable params: 20,024,384\n",
            "Non-trainable params: 0\n",
            "_________________________________________________________________\n"
          ],
          "name": "stdout"
        }
      ]
    },
    {
      "cell_type": "code",
      "metadata": {
        "id": "iAHDln8dashy",
        "colab_type": "code",
        "colab": {}
      },
      "source": [
        "# pretrained_model = tf.keras.applications.MobileNetV2(input_shape=[*IMAGE_SIZE, 3], include_top=False)\n",
        "# #pretrained_model = tf.keras.applications.VGG16(weights='imagenet', include_top=False ,input_shape=[*IMAGE_SIZE, 3])\n",
        "# #pretrained_model = tf.keras.applications.ResNet50(weights='imagenet', include_top=False, input_shape=[*IMAGE_SIZE, 3])\n",
        "# #pretrained_model = tf.keras.applications.MobileNet(weights='imagenet', include_top=False, input_shape=[*IMAGE_SIZE, 3])\n",
        "# pretrained_model.trainable = False\n",
        "\n",
        "# model = tf.keras.Sequential([\n",
        "#   #\n",
        "#   # YOUR CODE HERE\n",
        "#   pretrained_model,\n",
        "#   tf.keras.layers.Flatten(), \n",
        "#   tf.keras.layers.Dense(5, activation='softmax')\n",
        "#   #\n",
        "# ])\n",
        "\n",
        "# model.compile(\n",
        "#   #\n",
        "#   # YOUR CODE HERE\n",
        "#   optimizer=\"adam\", loss='sparse_categorical_crossentropy',\n",
        "#   metrics=['accuracy']\n",
        "#   # \n",
        "# )\n",
        "\n",
        "# history = model.fit(training_dataset, steps_per_epoch=steps_per_epoch, epochs=EPOCHS)\n",
        "# # history = None\n",
        "\n",
        "# model.summary()"
      ],
      "execution_count": 0,
      "outputs": []
    },
    {
      "cell_type": "code",
      "metadata": {
        "id": "tOUx6wYXT6wj",
        "colab_type": "code",
        "outputId": "5af46cf2-381c-4be2-e090-d0b691484baa",
        "colab": {
          "base_uri": "https://localhost:8080/",
          "height": 34
        }
      },
      "source": [
        "with strategy.scope(): # Tensorflow wants us to declare and compile our model within this \"scope\".\n",
        "  # pretrained_model = tf.keras.applications.Xception(input_shape=[*IMAGE_SIZE, 3],  include_top=False)\n",
        "  pretrained_model = tf.keras.applications.VGG19(weights='imagenet', include_top=False ,input_shape=[*IMAGE_SIZE, 3])\n",
        "\n",
        "  for layer in pretrained_model.layers:\n",
        "    layer.trainable = False\n",
        "\n",
        "  x = pretrained_model.output\n",
        "  x = tf.keras.layers.GlobalAveragePooling2D()(x)\n",
        "  x = tf.keras.layers.Dense(1024, activation='relu')(x)\n",
        "  x = tf.keras.layers.Dropout(0.2)(x)\n",
        "  # We got only 10 categories.\n",
        "  predictions = tf.keras.layers.Dense(10, activation='softmax')(x)\n",
        "  print(x.shape)\n",
        "\n",
        "  model2 = tf.keras.Model(inputs=pretrained_model.input, outputs=predictions) \n",
        "  model2.compile(optimizer=tf.keras.optimizers.SGD(lr=0.001, momentum=0.9), loss='categorical_crossentropy', metrics=['accuracy'])"
      ],
      "execution_count": 0,
      "outputs": [
        {
          "output_type": "stream",
          "text": [
            "(None, 1024)\n"
          ],
          "name": "stdout"
        }
      ]
    },
    {
      "cell_type": "code",
      "metadata": {
        "id": "Ve4rG9F8UjPR",
        "colab_type": "code",
        "outputId": "7d1253a9-c31e-4600-961b-110c40437d2f",
        "colab": {
          "base_uri": "https://localhost:8080/",
          "height": 170
        }
      },
      "source": [
        "# !pip install tensorboard\n",
        "filepath = 'cv-tricks_fine_tuned_model.h5'\n",
        "checkpoint = tf.keras.callbacks.ModelCheckpoint(filepath, monitor='val_loss', verbose=1,save_best_only=True,save_weights_only=False, mode='auto',period=1)\n",
        "\n",
        "history = model.fit(training_dataset, steps_per_epoch=steps_per_epoch, epochs=15,\n",
        "                    validation_data=validation_dataset)"
      ],
      "execution_count": 0,
      "outputs": [
        {
          "output_type": "stream",
          "text": [
            "WARNING:tensorflow:`period` argument is deprecated. Please use `save_freq` to specify the frequency in number of samples seen.\n"
          ],
          "name": "stdout"
        },
        {
          "output_type": "stream",
          "text": [
            "WARNING:tensorflow:`period` argument is deprecated. Please use `save_freq` to specify the frequency in number of samples seen.\n"
          ],
          "name": "stderr"
        },
        {
          "output_type": "stream",
          "text": [
            "Train for 74 steps, validate for 75 steps\n",
            "Epoch 1/15\n",
            "74/74 [==============================] - 19s 262ms/step - loss: 2.3014 - accuracy: 0.1101 - val_loss: 2.2981 - val_accuracy: 0.0891\n",
            "Epoch 2/15\n",
            "74/74 [==============================] - 3s 47ms/step - loss: 2.2934 - accuracy: 0.1464 - val_loss: 2.2950 - val_accuracy: 0.1718\n",
            "Epoch 3/15\n",
            "41/74 [===============>..............] - ETA: 0s - loss: 2.2784 - accuracy: 0.1713"
          ],
          "name": "stdout"
        }
      ]
    },
    {
      "cell_type": "code",
      "metadata": {
        "id": "nsXGqcg7uk8t",
        "colab_type": "code",
        "outputId": "66e90ff5-0d2a-4157-f17c-56e24377454d",
        "colab": {
          "base_uri": "https://localhost:8080/",
          "height": 51
        }
      },
      "source": [
        "file = 'model.csv'\n",
        "model.save(\"model.csv\")\n",
        "print(file)"
      ],
      "execution_count": 0,
      "outputs": [
        {
          "output_type": "stream",
          "text": [
            "INFO:tensorflow:Assets written to: model.csv/assets\n",
            "model.csv\n"
          ],
          "name": "stdout"
        }
      ]
    },
    {
      "cell_type": "markdown",
      "metadata": {
        "colab_type": "text",
        "id": "dMfenMQcxAAb"
      },
      "source": [
        "## Training"
      ]
    },
    {
      "cell_type": "code",
      "metadata": {
        "id": "9W8jXXwfbx0J",
        "colab_type": "code",
        "outputId": "076641df-56fc-4824-e922-2e94077d90a0",
        "colab": {
          "base_uri": "https://localhost:8080/",
          "height": 34
        }
      },
      "source": [
        "print(model.metrics_names)"
      ],
      "execution_count": 0,
      "outputs": [
        {
          "output_type": "stream",
          "text": [
            "['loss', 'accuracy']\n"
          ],
          "name": "stdout"
        }
      ]
    },
    {
      "cell_type": "code",
      "metadata": {
        "colab_type": "code",
        "id": "VngeUBIdyJ1T",
        "outputId": "1395fd17-a683-4007-e18b-b3ff99a8503e",
        "colab": {
          "base_uri": "https://localhost:8080/",
          "height": 772
        }
      },
      "source": [
        "print(history.history.keys())\n",
        "display_training_curves(history.history['accuracy'], history.history['val_accuracy'], 'accuracy', 211)\n",
        "display_training_curves(history.history['loss'], history.history['val_loss'], 'loss', 212)"
      ],
      "execution_count": 0,
      "outputs": [
        {
          "output_type": "stream",
          "text": [
            "dict_keys(['loss', 'accuracy', 'val_loss', 'val_accuracy'])\n"
          ],
          "name": "stdout"
        },
        {
          "output_type": "display_data",
          "data": {
            "image/png": "[encoded data removed]",
            "text/plain": [
              "<Figure size 720x720 with 2 Axes>"
            ]
          },
          "metadata": {
            "tags": []
          }
        }
      ]
    },
    {
      "cell_type": "code",
      "metadata": {
        "id": "AObI8IRih3VT",
        "colab_type": "code",
        "outputId": "b61c1f36-fcaa-451c-ebd6-78ee8f5a97d6",
        "colab": {
          "base_uri": "https://localhost:8080/",
          "height": 105
        }
      },
      "source": [
        "model.save(\"vgg19-dense.model\")"
      ],
      "execution_count": 0,
      "outputs": [
        {
          "output_type": "stream",
          "text": [
            "WARNING:tensorflow:From /tensorflow-2.1.0/python3.6/tensorflow_core/python/ops/resource_variable_ops.py:1786: calling BaseResourceVariable.__init__ (from tensorflow.python.ops.resource_variable_ops) with constraint is deprecated and will be removed in a future version.\n",
            "Instructions for updating:\n",
            "If using Keras pass *_constraint arguments to layers.\n",
            "INFO:tensorflow:Assets written to: vgg19-dense.model/assets\n"
          ],
          "name": "stdout"
        }
      ]
    },
    {
      "cell_type": "markdown",
      "metadata": {
        "colab_type": "text",
        "id": "MKFMWzh0Yxsq"
      },
      "source": [
        "## Predictions"
      ]
    },
    {
      "cell_type": "code",
      "metadata": {
        "colab_type": "code",
        "id": "yMEsR851VDZb",
        "outputId": "0cbfce5a-f748-4aae-af06-6e92a6ba70af",
        "colab": {
          "base_uri": "https://localhost:8080/",
          "height": 235
        }
      },
      "source": [
        "# random input: execute multiple times to change results\n",
        "#flowers, labels = dataset_to_numpy_util(load_dataset(validation_filenames).skip(np.random.randint(300)), 9)\n",
        "\n",
        "#predictions = model.predict(flowers, steps=1)\n",
        "#print(np.array(CLASSES)[np.argmax(predictions, axis=-1)].tolist())"
      ],
      "execution_count": 0,
      "outputs": [
        {
          "output_type": "error",
          "ename": "NameError",
          "evalue": "ignored",
          "traceback": [
            "\u001b[0;31m---------------------------------------------------------------------------\u001b[0m",
            "\u001b[0;31mNameError\u001b[0m                                 Traceback (most recent call last)",
            "\u001b[0;32m<ipython-input-18-2ef4431be720>\u001b[0m in \u001b[0;36m<module>\u001b[0;34m()\u001b[0m\n\u001b[0;32m----> 1\u001b[0;31m \u001b[0mflowers\u001b[0m\u001b[0;34m,\u001b[0m \u001b[0mlabels\u001b[0m \u001b[0;34m=\u001b[0m \u001b[0mdataset_to_numpy_util\u001b[0m\u001b[0;34m(\u001b[0m\u001b[0mload_dataset\u001b[0m\u001b[0;34m(\u001b[0m\u001b[0mvalidation_filenames\u001b[0m\u001b[0;34m)\u001b[0m\u001b[0;34m.\u001b[0m\u001b[0mskip\u001b[0m\u001b[0;34m(\u001b[0m\u001b[0mnp\u001b[0m\u001b[0;34m.\u001b[0m\u001b[0mrandom\u001b[0m\u001b[0;34m.\u001b[0m\u001b[0mrandint\u001b[0m\u001b[0;34m(\u001b[0m\u001b[0;36m300\u001b[0m\u001b[0;34m)\u001b[0m\u001b[0;34m)\u001b[0m\u001b[0;34m,\u001b[0m \u001b[0;36m9\u001b[0m\u001b[0;34m)\u001b[0m\u001b[0;34m\u001b[0m\u001b[0;34m\u001b[0m\u001b[0m\n\u001b[0m\u001b[1;32m      2\u001b[0m \u001b[0;34m\u001b[0m\u001b[0m\n\u001b[1;32m      3\u001b[0m \u001b[0mpredictions\u001b[0m \u001b[0;34m=\u001b[0m \u001b[0mmodel\u001b[0m\u001b[0;34m.\u001b[0m\u001b[0mpredict\u001b[0m\u001b[0;34m(\u001b[0m\u001b[0mflowers\u001b[0m\u001b[0;34m,\u001b[0m \u001b[0msteps\u001b[0m\u001b[0;34m=\u001b[0m\u001b[0;36m1\u001b[0m\u001b[0;34m)\u001b[0m\u001b[0;34m\u001b[0m\u001b[0;34m\u001b[0m\u001b[0m\n\u001b[1;32m      4\u001b[0m \u001b[0mprint\u001b[0m\u001b[0;34m(\u001b[0m\u001b[0mnp\u001b[0m\u001b[0;34m.\u001b[0m\u001b[0marray\u001b[0m\u001b[0;34m(\u001b[0m\u001b[0mCLASSES\u001b[0m\u001b[0;34m)\u001b[0m\u001b[0;34m[\u001b[0m\u001b[0mnp\u001b[0m\u001b[0;34m.\u001b[0m\u001b[0margmax\u001b[0m\u001b[0;34m(\u001b[0m\u001b[0mpredictions\u001b[0m\u001b[0;34m,\u001b[0m \u001b[0maxis\u001b[0m\u001b[0;34m=\u001b[0m\u001b[0;34m-\u001b[0m\u001b[0;36m1\u001b[0m\u001b[0;34m)\u001b[0m\u001b[0;34m]\u001b[0m\u001b[0;34m.\u001b[0m\u001b[0mtolist\u001b[0m\u001b[0;34m(\u001b[0m\u001b[0;34m)\u001b[0m\u001b[0;34m)\u001b[0m\u001b[0;34m\u001b[0m\u001b[0;34m\u001b[0m\u001b[0m\n",
            "\u001b[0;31mNameError\u001b[0m: name 'load_dataset' is not defined"
          ]
        }
      ]
    },
    {
      "cell_type": "code",
      "metadata": {
        "colab_type": "code",
        "id": "qzCCDL1CZFx6",
        "colab": {}
      },
      "source": [
        "#display_9_images_with_predictions(flowers, predictions, labels)"
      ],
      "execution_count": 0,
      "outputs": []
    },
    {
      "cell_type": "code",
      "metadata": {
        "id": "do69Lqyiolqd",
        "colab_type": "code",
        "colab": {}
      },
      "source": [
        "test_images = np.load(\"test_images.npy\")\n",
        "train_data = np.load(\"train_images.npy\")\n",
        "import matplotlib.pyplot as plt\n",
        "\n",
        "# test_data = [image[:][:] for image in tqdm(test_images[:])]\n",
        "\n",
        "miscategorized = list()\n",
        "\n",
        "test_data = list()\n",
        "\n",
        "for img in tqdm(test_images):\n",
        "  img = img.astype('float32')\n",
        "  img = cv2.resize(img, tuple(IMAGE_SIZE))\n",
        "  rbg_img = np.stack((img, img, img), axis=2)\n",
        "  test_data.append(rbg_img)\n",
        "\n",
        "test_data = tf.data.Dataset.from_tensor_slices(test_data)\n",
        "\n",
        "\n",
        "def normalize_test(image):\n",
        "  image = tf.cast(image, tf.float32) / 255.0  # convert image to floats in [0, 1] range  \n",
        "  image = tf.reshape(image, (*IMAGE_SIZE, 3))\n",
        "  return image\n",
        "\n",
        "test_data = test_data.map(normalize_test)\n",
        "\n",
        "def get_batched_testing_dataset(input_dataset, train=False, argument_data=True):\n",
        "  # dataset = input_dataset.map(normalize_test)\n",
        "  dataset = input_dataset\n",
        "  dataset = dataset.cache() # Assuming that this dataset fits in RAM\n",
        "  if train:\n",
        "    # Best practices for Keras:\n",
        "    # Training dataset: repeat then batch\n",
        "    # Evaluation dataset: do not repeat\n",
        "    dataset = dataset.repeat()\n",
        "    # if argument_data:\n",
        "    #   dataset = dataset.map(data_augment, num_parallel_calls=AUTO)\n",
        "\n",
        "  dataset = dataset.batch(BATCH_SIZE)\n",
        "  dataset = dataset.prefetch(AUTO) # prefetch next batch while training (autotune prefetch buffer size)\n",
        "  # should shuffle too but this dataset was well shuffled on disk already\n",
        "  return dataset\n",
        "  # source: Dataset performance guide: https://www.tensorflow.org/guide/performance/datasets\n",
        "\n",
        "testing_dataset = get_batched_testing_dataset(test_data)\n",
        "\n"
      ],
      "execution_count": 0,
      "outputs": []
    },
    {
      "cell_type": "code",
      "metadata": {
        "id": "UZO4ujXdyBFL",
        "colab_type": "code",
        "colab": {}
      },
      "source": [
        "keras = tf.keras \n",
        "\n",
        "predictions = model.predict(testing_dataset)\n",
        "\n",
        "import matplotlib.pyplot as plt\n",
        "\n",
        "fig = plt.figure(figsize=(15, 10))\n",
        "for num, prediction in enumerate(predictions[:60]):\n",
        "  prediction = np.argmax(prediction)\n",
        "  img_data = test_images[num]\n",
        "\n",
        "  y = fig.add_subplot(6, 10, num+1)\n",
        "  orig = img_data\n",
        "\n",
        "  str_label = label_int_to_str_mapping[int(prediction)][1]\n",
        "\n",
        "  y.imshow(orig, cmap='gray')\n",
        "  plt.title(str_label)\n",
        "  y.axes.get_xaxis().set_visible(False)\n",
        "  y.axes.get_yaxis().set_visible(False)\n",
        "\n",
        "plt.show\n",
        "\n",
        "\n",
        "with open('submission-file.csv', 'w') as f:\n",
        "  f.write('ID,label\\n')\n",
        "\n",
        "with open('submission-file.csv', 'a') as f:\n",
        "  for img_num, prediction in enumerate(tqdm(np.argmax(predictions, axis=-1))):\n",
        "    f.write('{},{}\\n'.format(img_num, prediction))\n"
      ],
      "execution_count": 0,
      "outputs": []
    },
    {
      "cell_type": "code",
      "metadata": {
        "id": "7ebFrkqfyEQ9",
        "colab_type": "code",
        "colab": {}
      },
      "source": [
        "from google.colab import files\n",
        "files.download('submission-file.csv') "
      ],
      "execution_count": 0,
      "outputs": []
    },
    {
      "cell_type": "markdown",
      "metadata": {
        "colab_type": "text",
        "id": "W4pcQx3k4dUt"
      },
      "source": [
        "## License\n",
        "\n",
        "\n",
        "\n",
        "---\n",
        "\n",
        "\n",
        "author: Martin Gorner<br>\n",
        "twitter: @martin_gorner\n",
        "\n",
        "\n",
        "---\n",
        "\n",
        "\n",
        "Copyright 2020 Google LLC\n",
        "\n",
        "Licensed under the Apache License, Version 2.0 (the \"License\");\n",
        "you may not use this file except in compliance with the License.\n",
        "You may obtain a copy of the License at\n",
        "\n",
        "    http://www.apache.org/licenses/LICENSE-2.0\n",
        "\n",
        "Unless required by applicable law or agreed to in writing, software\n",
        "distributed under the License is distributed on an \"AS IS\" BASIS,\n",
        "WITHOUT WARRANTIES OR CONDITIONS OF ANY KIND, either express or implied.\n",
        "See the License for the specific language governing permissions and\n",
        "limitations under the License.\n",
        "\n",
        "\n",
        "---\n",
        "\n",
        "\n",
        "This is not an official Google product but sample code provided for an educational purpose\n"
      ]
    }
  ]
}